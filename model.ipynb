{
 "cells": [
  {
   "cell_type": "markdown",
   "metadata": {},
   "source": [
    "## Importing libraries required"
   ]
  },
  {
   "cell_type": "code",
   "execution_count": 1,
   "metadata": {},
   "outputs": [],
   "source": [
    "import numpy as np\n",
    "import os\n",
    "import random\n",
    "import shutil\n",
    "import tensorflow as tf\n",
    "from tensorflow.keras.optimizers import RMSprop,Adam\n",
    "from tensorflow.keras.preprocessing.image import ImageDataGenerator\n",
    "from shutil import copyfile\n",
    "from os import getcwd\n",
    "from tensorflow.keras.applications.inception_v3 import InceptionV3"
   ]
  },
  {
   "cell_type": "markdown",
   "metadata": {},
   "source": [
    "## Creating deep learning model"
   ]
  },
  {
   "cell_type": "code",
   "execution_count": 4,
   "metadata": {},
   "outputs": [],
   "source": [
    "model = tf.keras.models.Sequential([\n",
    "    tf.keras.layers.Conv2D(16, (3,3), activation='relu', input_shape=(150, 150, 3)),\n",
    "    tf.keras.layers.MaxPooling2D(2,2),\n",
    "    tf.keras.layers.Conv2D(32, (3,3), activation='relu'),\n",
    "    tf.keras.layers.MaxPooling2D(2,2), \n",
    "    tf.keras.layers.Conv2D(64, (3,3), activation='relu'), \n",
    "    tf.keras.layers.MaxPooling2D(2,2),\n",
    "    # Flatten the results to feed into a DNN\n",
    "    tf.keras.layers.Flatten(), \n",
    "    # 512 neuron hidden layer\n",
    "    tf.keras.layers.Dense(512, activation='relu'), \n",
    "    # Only 1 output neuron. It will contain a value from 0-1 where 0 for 1 class ('cats') and 1 for the other ('dogs')\n",
    "    tf.keras.layers.Dense(2, activation='softmax')\n",
    "])\n",
    "\n",
    "model.compile(optimizer=RMSprop(lr=0.001), loss='SparseCategoricalCrossentropy', metrics=['acc'])"
   ]
  },
  {
   "cell_type": "markdown",
   "metadata": {},
   "source": [
    "## Creating directories for segregating the dataset"
   ]
  },
  {
   "cell_type": "code",
   "execution_count": 7,
   "metadata": {},
   "outputs": [],
   "source": [
    "os.mkdir(f\"{getcwd()}/tmp\")\n",
    "os.mkdir(f\"{getcwd()}/tmp/training/\")\n",
    "os.mkdir(f\"{getcwd()}/tmp/validation/\")\n",
    "os.mkdir(f\"{getcwd()}/tmp/testing/\")\n",
    "os.mkdir(f\"{getcwd()}/tmp/training/infected/\")\n",
    "os.mkdir(f\"{getcwd()}/tmp/training/uninfected/\")\n",
    "os.mkdir(f\"{getcwd()}/tmp/validation/infected/\")\n",
    "os.mkdir(f\"{getcwd()}/tmp/validation/uninfected/\")\n",
    "os.mkdir(f\"{getcwd()}/tmp/testing/infected/\")\n",
    "os.mkdir(f\"{getcwd()}/tmp/testing/uninfected/\")"
   ]
  },
  {
   "cell_type": "markdown",
   "metadata": {},
   "source": [
    "## Segregating dataset into 3 parts for training, validation and testing"
   ]
  },
  {
   "cell_type": "code",
   "execution_count": 8,
   "metadata": {},
   "outputs": [],
   "source": [
    "def split_data(SOURCE, TRAINING,VALIDATION, TESTING):\n",
    "    files = os.listdir(SOURCE)\n",
    "    files = random.sample(files,len(files))\n",
    "    k = 0\n",
    "    for file in files:\n",
    "        k=k+1\n",
    "        source = os.path.join(SOURCE,file)\n",
    "        dest_tr = os.path.join(TRAINING,file)\n",
    "        dest_tt = os.path.join(TESTING,file)\n",
    "        dest_tv = os.path.join(VALIDATION,file)\n",
    "        if os.path.getsize(source)!=0:\n",
    "            if (k<=0.9*(len(files))):\n",
    "                copyfile(source,dest_tr)\n",
    "            elif (k<=0.95*(len(files))):\n",
    "                copyfile(source,dest_tt)\n",
    "            else:\n",
    "                copyfile(source,dest_tv)\n",
    "train_infec = f\"{getcwd()}/tmp/training/infected/\"\n",
    "val_infec = f\"{getcwd()}/tmp/validation/infected/\"\n",
    "test_infec = f\"{getcwd()}/tmp/testing/infected/\"\n",
    "train_unin = f\"{getcwd()}/tmp/training/uninfected/\"\n",
    "val_unin = f\"{getcwd()}/tmp/validation/uninfected/\"\n",
    "test_unin = f\"{getcwd()}/tmp/testing/uninfected/\"\n",
    "source_inf = f\"{getcwd()}/cell_images/Parasitized\"\n",
    "source_uninf = f\"{getcwd()}/cell_images/Uninfected\""
   ]
  },
  {
   "cell_type": "code",
   "execution_count": 9,
   "metadata": {},
   "outputs": [],
   "source": [
    "split_data(source_inf,train_infec,val_infec,test_infec)"
   ]
  },
  {
   "cell_type": "code",
   "execution_count": 10,
   "metadata": {},
   "outputs": [],
   "source": [
    "split_data(source_uninf,train_unin,val_unin,test_unin)"
   ]
  },
  {
   "cell_type": "markdown",
   "metadata": {},
   "source": [
    "## Creating data generators for training and testing"
   ]
  },
  {
   "cell_type": "code",
   "execution_count": 2,
   "metadata": {},
   "outputs": [
    {
     "name": "stdout",
     "output_type": "stream",
     "text": [
      "Found 24802 images belonging to 2 classes.\n",
      "Found 1378 images belonging to 2 classes.\n",
      "Found 1378 images belonging to 2 classes.\n"
     ]
    }
   ],
   "source": [
    "TRAINING_DIR = f\"{getcwd()}/tmp/training/\"\n",
    "train_datagen = ImageDataGenerator(\n",
    "      rescale=1./255,\n",
    "      rotation_range=40,\n",
    "      width_shift_range=0.2,\n",
    "      height_shift_range=0.2,\n",
    "      shear_range=0.2,\n",
    "      zoom_range=0.2,\n",
    "      horizontal_flip=True,\n",
    "      fill_mode='nearest')\n",
    "\n",
    "train_generator = train_datagen.flow_from_directory(TRAINING_DIR,\n",
    "                                                    batch_size=32,\n",
    "                                                    class_mode='binary',\n",
    "                                                    target_size=(150, 150))\n",
    "\n",
    "VALIDATION_DIR = f\"{getcwd()}/tmp/validation/\"\n",
    "validation_datagen = ImageDataGenerator(rescale=1./255)\n",
    "\n",
    "validation_generator = validation_datagen.flow_from_directory(VALIDATION_DIR,\n",
    "                                                    batch_size=32,\n",
    "                                                    class_mode='binary',\n",
    "                                                    target_size=(150, 150))\n",
    "\n",
    "TEST_DIR = f\"{getcwd()}/tmp/testing/\"\n",
    "test_datagen = ImageDataGenerator(rescale=1./255)\n",
    "test_generator = test_datagen.flow_from_directory(TEST_DIR,\n",
    "                                                    batch_size=32,\n",
    "                                                    class_mode='binary',\n",
    "                                                    target_size=(150, 150))\n"
   ]
  },
  {
   "cell_type": "markdown",
   "metadata": {},
   "source": [
    "## Training the Model"
   ]
  },
  {
   "cell_type": "code",
   "execution_count": 59,
   "metadata": {},
   "outputs": [
    {
     "name": "stdout",
     "output_type": "stream",
     "text": [
      "Epoch 1/2\n",
      "776/776 [==============================] - 975s 1s/step - loss: 0.6801 - acc: 0.6694 - val_loss: 0.2833 - val_acc: 0.9158\n",
      "Epoch 2/2\n",
      "776/776 [==============================] - 1009s 1s/step - loss: 0.2980 - acc: 0.9021 - val_loss: 0.2064 - val_acc: 0.9463\n"
     ]
    }
   ],
   "source": [
    "from PIL import ImageFile\n",
    "ImageFile.LOAD_TRUNCATED_IMAGES = True\n",
    "history = model.fit(train_generator,\n",
    "                              epochs=2,\n",
    "                              verbose=1,\n",
    "                              validation_data=validation_generator)\n"
   ]
  },
  {
   "cell_type": "markdown",
   "metadata": {},
   "source": [
    "## Saving the model"
   ]
  },
  {
   "cell_type": "code",
   "execution_count": 60,
   "metadata": {},
   "outputs": [],
   "source": [
    "model.save('malaria_v2.h5')"
   ]
  },
  {
   "cell_type": "markdown",
   "metadata": {},
   "source": [
    "## Evaluating the model on Test dataset"
   ]
  },
  {
   "cell_type": "code",
   "execution_count": 3,
   "metadata": {},
   "outputs": [
    {
     "name": "stdout",
     "output_type": "stream",
     "text": [
      "44/44 [==============================] - 26s 301ms/step - loss: 0.1892 - acc: 0.9499\n"
     ]
    }
   ],
   "source": [
    "model = tf.keras.models.load_model('malaria_v2.h5')\n",
    "loss, accuracy = model.evaluate(test_generator)"
   ]
  },
  {
   "cell_type": "code",
   "execution_count": 5,
   "metadata": {},
   "outputs": [
    {
     "name": "stdout",
     "output_type": "stream",
     "text": [
      "Accuracy of model on test dataset is 0.9499274492263794\n"
     ]
    }
   ],
   "source": [
    "print(f'Accuracy of model on test dataset is {accuracy}')"
   ]
  },
  {
   "cell_type": "code",
   "execution_count": null,
   "metadata": {},
   "outputs": [],
   "source": []
  }
 ],
 "metadata": {
  "kernelspec": {
   "display_name": "Python 3",
   "language": "python",
   "name": "python3"
  },
  "language_info": {
   "codemirror_mode": {
    "name": "ipython",
    "version": 3
   },
   "file_extension": ".py",
   "mimetype": "text/x-python",
   "name": "python",
   "nbconvert_exporter": "python",
   "pygments_lexer": "ipython3",
   "version": "3.8.3"
  }
 },
 "nbformat": 4,
 "nbformat_minor": 4
}
